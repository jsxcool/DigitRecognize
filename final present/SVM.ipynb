{
 "cells": [
  {
   "cell_type": "markdown",
   "metadata": {},
   "source": [
    "# Data pre-processing"
   ]
  },
  {
   "cell_type": "code",
   "execution_count": 1,
   "metadata": {},
   "outputs": [],
   "source": [
    "import os\n",
    "import struct\n",
    "import numpy as np\n",
    "import time\n",
    "import random\n",
    "import csv"
   ]
  },
  {
   "cell_type": "code",
   "execution_count": 2,
   "metadata": {},
   "outputs": [],
   "source": [
    "def load_data(path):\n",
    "    data = csv.reader(open(path,'r'))\n",
    "    labels=[]\n",
    "    images=[]\n",
    "    for item in data:\n",
    "        labels.append(item[1])\n",
    "        temp =list(map(int,item[2:]))\n",
    "        images.append(temp)   \n",
    "    # data[0] is the lable of each column\n",
    "    # item[0] is the index of images\n",
    "    # omit these 2 things \n",
    "    labels.pop(0)\n",
    "    images.pop(0)\n",
    "    return images,labels"
   ]
  },
  {
   "cell_type": "code",
   "execution_count": 3,
   "metadata": {},
   "outputs": [],
   "source": [
    "# data path\n",
    "training_data = 'trainData.csv'\n",
    "test_data = 'testData.csv'"
   ]
  },
  {
   "cell_type": "code",
   "execution_count": 4,
   "metadata": {},
   "outputs": [],
   "source": [
    "# loading in data\n",
    "X_train,y_train = load_data(training_data)\n",
    "X_test,y_test = load_data(test_data)"
   ]
  },
  {
   "cell_type": "markdown",
   "metadata": {},
   "source": [
    "# Create model"
   ]
  },
  {
   "cell_type": "code",
   "execution_count": 5,
   "metadata": {},
   "outputs": [
    {
     "data": {
      "text/plain": [
       "SVC(C=100.0, cache_size=200, class_weight=None, coef0=0.0,\n",
       "  decision_function_shape='ovr', degree=3, gamma=0.03, kernel='poly',\n",
       "  max_iter=-1, probability=False, random_state=None, shrinking=True,\n",
       "  tol=0.001, verbose=False)"
      ]
     },
     "execution_count": 5,
     "metadata": {},
     "output_type": "execute_result"
    }
   ],
   "source": [
    "from sklearn.svm import SVC\n",
    "\n",
    "clf = SVC(C=100.0, kernel='poly', gamma=0.03)\n",
    "clf.fit(X_train,y_train)"
   ]
  },
  {
   "cell_type": "code",
   "execution_count": 10,
   "metadata": {},
   "outputs": [
    {
     "name": "stdout",
     "output_type": "stream",
     "text": [
      "In‐sample accuracy report:\n",
      "             precision    recall  f1-score   support\n",
      "\n",
      "          0       1.00      1.00      1.00      1000\n",
      "          1       1.00      1.00      1.00      1000\n",
      "          2       1.00      1.00      1.00      1000\n",
      "          3       1.00      1.00      1.00      1000\n",
      "          4       1.00      1.00      1.00      1000\n",
      "          5       1.00      1.00      1.00      1000\n",
      "          6       1.00      1.00      1.00      1000\n",
      "          7       1.00      1.00      1.00      1000\n",
      "          8       1.00      1.00      1.00      1000\n",
      "          9       1.00      1.00      1.00      1000\n",
      "\n",
      "avg / total       1.00      1.00      1.00     10000\n",
      " \n",
      "\n"
     ]
    }
   ],
   "source": [
    "# report the test result\n",
    "Y_predict1 = clf.predict(X_train)\n",
    "from sklearn.metrics import classification_report,precision_recall_fscore_support\n",
    "print('In‐sample accuracy report:')\n",
    "print(classification_report(Y_predict1, y_train, target_names=['0', '1', '2', '3', '4', '5', '6', '7', '8', '9']),'\\n')"
   ]
  },
  {
   "cell_type": "code",
   "execution_count": 11,
   "metadata": {},
   "outputs": [
    {
     "name": "stdout",
     "output_type": "stream",
     "text": [
      "Out‐sample accuracy report:\n",
      "             precision    recall  f1-score   support\n",
      "\n",
      "          0       1.00      0.98      0.99       205\n",
      "          1       0.97      0.97      0.97       201\n",
      "          2       0.96      0.96      0.96       201\n",
      "          3       0.94      0.95      0.94       198\n",
      "          4       0.96      0.96      0.96       200\n",
      "          5       0.95      0.97      0.96       196\n",
      "          6       0.97      0.98      0.98       199\n",
      "          7       0.96      0.96      0.96       200\n",
      "          8       0.94      0.95      0.94       196\n",
      "          9       0.95      0.93      0.94       204\n",
      "\n",
      "avg / total       0.96      0.96      0.96      2000\n",
      " \n",
      "\n"
     ]
    }
   ],
   "source": [
    "Y_predict2 = clf.predict(X_test)\n",
    "print('Out‐sample accuracy report:')\n",
    "print(classification_report(Y_predict2, y_test, target_names=['0', '1', '2', '3', '4', '5', '6', '7', '8', '9']),'\\n')"
   ]
  },
  {
   "cell_type": "markdown",
   "metadata": {},
   "source": [
    "# Select parameters "
   ]
  },
  {
   "cell_type": "code",
   "execution_count": 17,
   "metadata": {},
   "outputs": [
    {
     "data": {
      "image/png": "[encoded data removed]",
      "text/plain": [
       "<Figure size 432x288 with 1 Axes>"
      ]
     },
     "metadata": {
      "needs_background": "light"
     },
     "output_type": "display_data"
    },
    {
     "name": "stdout",
     "output_type": "stream",
     "text": [
      "best score: 0.951000\n",
      "best parameters:\n",
      "kernel poly\n",
      "test score: 0.961000\n"
     ]
    }
   ],
   "source": [
    "import matplotlib.pyplot as plt\n",
    "from sklearn.model_selection import GridSearchCV, KFold\n",
    "from sklearn.metrics import make_scorer, accuracy_score\n",
    "# Control the parameters\n",
    "\n",
    "# Test the 'kernel'\n",
    "parameters = {'kernel':['poly','rbf','sigmoid']}\n",
    "scoring_fnc = make_scorer(accuracy_score)\n",
    "kf = KFold(n_splits=5)\n",
    "clf_new = GridSearchCV(clf, parameters, scoring_fnc, cv=kf)\n",
    "clf_new = clf_new.fit(X_train, y_train)\n",
    "result = clf_new.best_estimator_\n",
    "\n",
    "X = [parameters['kernel'][i] for i in range(3)]\n",
    "Y = [(1 - clf_new.cv_results_['mean_test_score'][i]) * len(X_train) for i in range(3)]\n",
    "\n",
    "# Show the test process\n",
    "plt.plot(X,Y)\n",
    "plt.xlabel('kernel')\n",
    "plt.ylabel('misclassification')\n",
    "plt.show()\n",
    "\n",
    "print('best score: %f'%clf_new.best_score_)\n",
    "for key in parameters.keys():\n",
    "    temp = Y[0]\n",
    "    for i in range(len(Y)-1):\n",
    "        if Y[i] != Y[i+1]:\n",
    "            temp = Y[i+1]\n",
    "    if temp != Y[0]:\n",
    "        print('best parameters:')\n",
    "        print(key, result.get_params()[key])\n",
    "    else:\n",
    "        print('This parameter \"kernel\" do not have too much effect on the result.')\n",
    "        print('best parameters:')\n",
    "        print(key,X[-1])\n",
    "print('test score: %f'%result.score(X_test, y_test))"
   ]
  },
  {
   "cell_type": "code",
   "execution_count": 6,
   "metadata": {},
   "outputs": [],
   "source": [
    "import matplotlib.pyplot as plt\n",
    "from sklearn.model_selection import GridSearchCV, KFold\n",
    "from sklearn.metrics import make_scorer, accuracy_score"
   ]
  },
  {
   "cell_type": "code",
   "execution_count": 7,
   "metadata": {},
   "outputs": [
    {
     "data": {
      "image/png": "[encoded data removed]",
      "text/plain": [
       "<Figure size 432x288 with 1 Axes>"
      ]
     },
     "metadata": {
      "needs_background": "light"
     },
     "output_type": "display_data"
    },
    {
     "name": "stdout",
     "output_type": "stream",
     "text": [
      "best score: 0.958400\n",
      "best parameters:\n",
      "kernel poly\n",
      "best parameters:\n",
      "degree 2\n",
      "test score: 0.965000\n"
     ]
    }
   ],
   "source": [
    "# Test the 'degree'\n",
    "parameters = {'kernel':['poly'],\n",
    "              'degree':[1,2,3,4,5]}\n",
    "scoring_fnc = make_scorer(accuracy_score)\n",
    "kf = KFold(n_splits=5)\n",
    "clf_new = GridSearchCV(clf, parameters, scoring_fnc, cv=kf)\n",
    "clf_new = clf_new.fit(X_train, y_train)\n",
    "result = clf_new.best_estimator_\n",
    "X = [parameters['degree'][i] for i in range(5)]\n",
    "Y = [(1 - clf_new.cv_results_['mean_test_score'][i]) * len(X_train) for i in range(5)]\n",
    "\n",
    "# Show the test process\n",
    "plt.plot(X,Y)\n",
    "plt.xlabel('degree')\n",
    "plt.ylabel('misclassification')\n",
    "plt.show()\n",
    "\n",
    "print('best score: %f'%clf_new.best_score_)\n",
    "for key in parameters.keys():\n",
    "    temp = Y[0]\n",
    "    for i in range(len(Y)-1):\n",
    "        if Y[i] != Y[i+1]:\n",
    "            temp = Y[i+1]\n",
    "    if temp != Y[0]:\n",
    "        print('best parameters:')\n",
    "        print(key, result.get_params()[key])\n",
    "    else:\n",
    "        print('This parameter \"degree\" do not have too much effect on the result.')\n",
    "        print('best parameters:')\n",
    "        print(key,X[-1])\n",
    "print('test score: %f'%result.score(X_test, y_test))"
   ]
  },
  {
   "cell_type": "code",
   "execution_count": 9,
   "metadata": {},
   "outputs": [
    {
     "data": {
      "image/png": "[encoded data removed]",
      "text/plain": [
       "<Figure size 432x288 with 1 Axes>"
      ]
     },
     "metadata": {
      "needs_background": "light"
     },
     "output_type": "display_data"
    },
    {
     "name": "stdout",
     "output_type": "stream",
     "text": [
      "best score: 0.958400\n",
      "This parameter \"C\" do not have too much effect on the result.\n",
      "best parameters:\n",
      "kernel 100.0\n",
      "This parameter \"C\" do not have too much effect on the result.\n",
      "best parameters:\n",
      "degree 100.0\n",
      "This parameter \"C\" do not have too much effect on the result.\n",
      "best parameters:\n",
      "C 100.0\n",
      "test score: 0.965000\n"
     ]
    }
   ],
   "source": [
    "# Test the 'C'\n",
    "parameters = {'kernel':['poly'],\n",
    "              'degree':[2],\n",
    "              'C':[20.0,40.0,60.0,80.0,100.0]}\n",
    "scoring_fnc = make_scorer(accuracy_score)\n",
    "kf = KFold(n_splits=5)\n",
    "clf_new = GridSearchCV(clf, parameters, scoring_fnc, cv=kf)\n",
    "clf_new = clf_new.fit(X_train, y_train)\n",
    "result = clf_new.best_estimator_\n",
    "\n",
    "X = [parameters['C'][i] for i in range(5)]\n",
    "Y = [(1 - clf_new.cv_results_['mean_test_score'][i]) * len(X_train) for i in range(5)]\n",
    "\n",
    "# Show the test process\n",
    "plt.plot(X,Y)\n",
    "plt.xlabel('C')\n",
    "plt.ylabel('misclassification')\n",
    "plt.show()\n",
    "\n",
    "print('best score: %f'%clf_new.best_score_)\n",
    "for key in parameters.keys():\n",
    "    temp = Y[0]\n",
    "    for i in range(len(Y)-1):\n",
    "        if Y[i] != Y[i+1]:\n",
    "            temp = Y[i+1]\n",
    "    if temp != Y[0]:\n",
    "        print('best parameters:')\n",
    "        print(key, result.get_params()[key])\n",
    "    else:\n",
    "        print('This parameter \"C\" do not have too much effect on the result.')\n",
    "        print('best parameters:')\n",
    "        print(key,X[-1])\n",
    "print('test score: %f'%result.score(X_test, y_test))"
   ]
  },
  {
   "cell_type": "code",
   "execution_count": 11,
   "metadata": {},
   "outputs": [
    {
     "data": {
      "image/png": "[encoded data removed]",
      "text/plain": [
       "<Figure size 432x288 with 1 Axes>"
      ]
     },
     "metadata": {
      "needs_background": "light"
     },
     "output_type": "display_data"
    },
    {
     "name": "stdout",
     "output_type": "stream",
     "text": [
      "best score: 0.958400\n",
      "This parameter \"gamma\" do not have too much effect on the result.\n",
      "best parameters:\n",
      "kernel 0.05\n",
      "This parameter \"gamma\" do not have too much effect on the result.\n",
      "best parameters:\n",
      "degree 0.05\n",
      "This parameter \"gamma\" do not have too much effect on the result.\n",
      "best parameters:\n",
      "C 0.05\n",
      "This parameter \"gamma\" do not have too much effect on the result.\n",
      "best parameters:\n",
      "gamma 0.05\n",
      "test score: 0.965000\n"
     ]
    }
   ],
   "source": [
    "# Test the 'gamma'\n",
    "parameters = {'kernel':['poly'],\n",
    "              'degree':[2],\n",
    "              'C':[100.0],\n",
    "              'gamma':[0.01,0.02,0.03,0.04,0.05]}\n",
    "scoring_fnc = make_scorer(accuracy_score)\n",
    "kf = KFold(n_splits=5)\n",
    "clf_new = GridSearchCV(clf, parameters, scoring_fnc, cv=kf)\n",
    "clf_new = clf_new.fit(X_train, y_train)\n",
    "result = clf_new.best_estimator_\n",
    "\n",
    "X = [parameters['gamma'][i] for i in range(5)]\n",
    "Y = [(1 - clf_new.cv_results_['mean_test_score'][i]) * len(X_train) for i in range(5)]\n",
    "\n",
    "# Show the test process\n",
    "plt.plot(X,Y)\n",
    "plt.xlabel('gamma')\n",
    "plt.ylabel('misclassification')\n",
    "plt.show()\n",
    "\n",
    "print('best score: %f'%clf_new.best_score_)\n",
    "for key in parameters.keys():\n",
    "    temp = Y[0]\n",
    "    for i in range(len(Y)-1):\n",
    "        if Y[i] != Y[i+1]:\n",
    "            temp = Y[i+1]\n",
    "    if temp != Y[0]:\n",
    "        print('best parameters:')\n",
    "        print(key, result.get_params()[key])\n",
    "    else:\n",
    "        print('This parameter \"gamma\" do not have too much effect on the result.')\n",
    "        print('best parameters:')\n",
    "        print(key,X[-1])\n",
    "print('test score: %f'%result.score(X_test, y_test))"
   ]
  },
  {
   "cell_type": "markdown",
   "metadata": {},
   "source": [
    "# Test the final model"
   ]
  },
  {
   "cell_type": "code",
   "execution_count": 18,
   "metadata": {},
   "outputs": [
    {
     "name": "stdout",
     "output_type": "stream",
     "text": [
      "test dataMat shape:  (200, 784) test dataLabel len:  200\n",
      "Recognition 0 spent 0.5385s\n",
      "errorCount: 0\n",
      "computing score spent 0.5094s\n",
      "score: 1.000000\n",
      "error rate is 0.000000\n",
      "---------------------------------------------------------\n",
      "test dataMat shape:  (200, 784) test dataLabel len:  200\n",
      "Recognition 1 spent 0.5090s\n",
      "errorCount: 5\n",
      "computing score spent 0.6144s\n",
      "score: 0.975000\n",
      "error rate is 0.025000\n",
      "---------------------------------------------------------\n",
      "test dataMat shape:  (200, 784) test dataLabel len:  200\n",
      "Recognition 2 spent 0.5043s\n",
      "errorCount: 8\n",
      "computing score spent 0.5125s\n",
      "score: 0.960000\n",
      "error rate is 0.040000\n",
      "---------------------------------------------------------\n",
      "test dataMat shape:  (200, 784) test dataLabel len:  200\n",
      "Recognition 3 spent 0.5038s\n",
      "errorCount: 9\n",
      "computing score spent 0.5060s\n",
      "score: 0.955000\n",
      "error rate is 0.045000\n",
      "---------------------------------------------------------\n",
      "test dataMat shape:  (200, 784) test dataLabel len:  200\n",
      "Recognition 4 spent 0.5049s\n",
      "errorCount: 7\n",
      "computing score spent 0.5088s\n",
      "score: 0.965000\n",
      "error rate is 0.035000\n",
      "---------------------------------------------------------\n",
      "test dataMat shape:  (200, 784) test dataLabel len:  200\n",
      "Recognition 5 spent 0.5069s\n",
      "errorCount: 8\n",
      "computing score spent 0.5959s\n",
      "score: 0.960000\n",
      "error rate is 0.040000\n",
      "---------------------------------------------------------\n",
      "test dataMat shape:  (200, 784) test dataLabel len:  200\n",
      "Recognition 6 spent 0.5147s\n",
      "errorCount: 3\n",
      "computing score spent 0.5155s\n",
      "score: 0.985000\n",
      "error rate is 0.015000\n",
      "---------------------------------------------------------\n",
      "test dataMat shape:  (200, 784) test dataLabel len:  200\n",
      "Recognition 7 spent 0.5196s\n",
      "errorCount: 8\n",
      "computing score spent 0.5172s\n",
      "score: 0.960000\n",
      "error rate is 0.040000\n",
      "---------------------------------------------------------\n",
      "test dataMat shape:  (200, 784) test dataLabel len:  200\n",
      "Recognition 8 spent 0.5236s\n",
      "errorCount: 12\n",
      "computing score spent 0.5132s\n",
      "score: 0.940000\n",
      "error rate is 0.060000\n",
      "---------------------------------------------------------\n",
      "test dataMat shape:  (200, 784) test dataLabel len:  200\n",
      "Recognition 9 spent 0.5198s\n",
      "errorCount: 10\n",
      "computing score spent 0.5165s\n",
      "score: 0.950000\n",
      "error rate is 0.050000\n",
      "---------------------------------------------------------\n",
      "Testing All class total spent 10.469769s\n",
      "All error Count is: 70\n",
      "Average accuracy is: 0.965000\n",
      "Average error rate is: 0.035000\n"
     ]
    }
   ],
   "source": [
    "# create model\n",
    "y_test = np.array(y_test)\n",
    "X_test = np.array(X_test)\n",
    "# Test the 10 numbers respectively\n",
    "def test_SVM():\n",
    "    clf = SVC(C=100.0, kernel='poly', degree = 2,gamma=0.03)\n",
    "    clf.fit(X_train,y_train)\n",
    "    tcName = ['0', '1', '2', '3', '4', '5', '6', '7', '8', '9']\n",
    "    tst = time.clock()\n",
    "    allErrCount = 0\n",
    "    allErrorRate = 0.0\n",
    "    allScore = 0.0\n",
    "    for tcn  in tcName:\n",
    "        index = np.where(y_test == tcn)\n",
    "        tdataMat = X_test[index]\n",
    "        tdataLabel = y_test[index]\n",
    "        print(\"test dataMat shape: \",tdataMat.shape,\"test dataLabel len: \",len(tdataLabel))\n",
    "        #print(\"test dataLabel: {}\".format(len(tdataLabel)))\n",
    "        pre_st = time.clock()\n",
    "        preResult = clf.predict(tdataMat)\n",
    "        pre_et = time.clock()\n",
    "        print(\"Recognition\",tcn,\"spent\",'%.4fs' % (pre_et-pre_st))\n",
    "        #print(\"predict result: {}\".format(len(preResult)))\n",
    "        errCount = len([x for x in preResult if x!=tcn])\n",
    "        print(\"errorCount:\",errCount)\n",
    "        allErrCount += errCount\n",
    "        score_st = time.clock()\n",
    "        score = clf.score(tdataMat, tdataLabel)\n",
    "        score_et = time.clock()\n",
    "        print(\"computing score spent\",'%.4fs' %(score_et-score_st))\n",
    "        allScore += score\n",
    "        print(\"score:\",'%.6f' %score)\n",
    "        print(\"error rate is\",'%.6f' %(1-score))\n",
    "        print(\"---------------------------------------------------------\")\n",
    "\n",
    "\n",
    "    tet = time.clock()\n",
    "    print(\"Testing All class total spent\",'%.6fs' %(tet-tst))\n",
    "    print(\"All error Count is:\",allErrCount)\n",
    "    avgAccuracy = allScore/10.0\n",
    "    print(\"Average accuracy is:\",'%.6f' %avgAccuracy)\n",
    "    print(\"Average error rate is:\",'%.6f' % (1-avgAccuracy))\n",
    "\n",
    "\n",
    "test_SVM()"
   ]
  }
 ],
 "metadata": {
  "kernelspec": {
   "display_name": "Python 3",
   "language": "python",
   "name": "python3"
  },
  "language_info": {
   "codemirror_mode": {
    "name": "ipython",
    "version": 3
   },
   "file_extension": ".py",
   "mimetype": "text/x-python",
   "name": "python",
   "nbconvert_exporter": "python",
   "pygments_lexer": "ipython3",
   "version": "3.6.5"
  }
 },
 "nbformat": 4,
 "nbformat_minor": 2
}
