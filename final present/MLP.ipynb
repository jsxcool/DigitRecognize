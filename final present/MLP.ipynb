{
 "cells": [
  {
   "cell_type": "code",
   "execution_count": 1,
   "metadata": {},
   "outputs": [],
   "source": [
    "import os\n",
    "import struct\n",
    "import numpy as np\n",
    "import time\n",
    "import random\n",
    "import csv\n",
    "\n",
    "def load_data(path):\n",
    "    data = csv.reader(open(path,'r'))\n",
    "    labels=[]\n",
    "    images=[]\n",
    "    for item in data:\n",
    "        labels.append(item[1])\n",
    "        temp =list(map(int,item[2:]))\n",
    "        images.append(temp)   \n",
    "    # data[0] is the lable of each column\n",
    "    # item[0] is the index of images\n",
    "    # omit these 2 things \n",
    "    labels.pop(0)\n",
    "    images.pop(0)\n",
    "    return images,labels\n",
    "\n",
    "# data path\n",
    "training_data = 'trainData.csv'\n",
    "test_data = 'testData.csv'\n",
    "\n",
    "# loading in data\n",
    "X_train,y_train = load_data(training_data)\n",
    "X_test,y_test = load_data(test_data)"
   ]
  },
  {
   "cell_type": "code",
   "execution_count": 3,
   "metadata": {},
   "outputs": [
    {
     "name": "stdout",
     "output_type": "stream",
     "text": [
      "In‐sample accuracy report:\n",
      "             precision    recall  f1-score   support\n",
      "\n",
      "          0       0.99      0.96      0.97      1029\n",
      "          1       0.98      0.98      0.98      1003\n",
      "          2       0.93      0.94      0.94       984\n",
      "          3       0.91      0.93      0.92       974\n",
      "          4       0.96      0.94      0.95      1017\n",
      "          5       0.92      0.93      0.92       991\n",
      "          6       0.97      0.96      0.97      1015\n",
      "          7       0.95      0.95      0.95       995\n",
      "          8       0.94      0.91      0.92      1030\n",
      "          9       0.91      0.95      0.93       962\n",
      "\n",
      "avg / total       0.95      0.95      0.95     10000\n",
      " \n",
      "\n",
      "Out‐sample accuracy report:\n",
      "             precision    recall  f1-score   support\n",
      "\n",
      "          0       0.98      0.94      0.96       210\n",
      "          1       0.95      0.96      0.95       198\n",
      "          2       0.89      0.92      0.90       194\n",
      "          3       0.90      0.89      0.90       202\n",
      "          4       0.94      0.95      0.94       197\n",
      "          5       0.91      0.90      0.90       202\n",
      "          6       0.95      0.91      0.93       209\n",
      "          7       0.94      0.94      0.94       199\n",
      "          8       0.88      0.90      0.89       194\n",
      "          9       0.90      0.92      0.91       195\n",
      "\n",
      "avg / total       0.92      0.92      0.92      2000\n",
      " \n",
      "\n"
     ]
    }
   ],
   "source": [
    "from sklearn.neural_network import MLPClassifier\n",
    "clf = MLPClassifier(activation='logistic',hidden_layer_sizes=(49,),solver='adam')\n",
    "clf.fit(X_train, y_train)\n",
    "Y_predict1 = clf.predict(X_train)\n",
    "Y_predict2 = clf.predict(X_test)\n",
    "\n",
    "# Report details\n",
    "from sklearn.metrics import classification_report,precision_recall_fscore_support\n",
    "\n",
    "print('In‐sample accuracy report:')\n",
    "print(classification_report(Y_predict1, y_train, target_names=['0', '1', '2', '3', '4', '5', '6', '7', '8', '9']),'\\n')\n",
    "\n",
    "print('Out‐sample accuracy report:')\n",
    "print(classification_report(Y_predict2, y_test, target_names=['0', '1', '2', '3', '4', '5', '6', '7', '8', '9']),'\\n')"
   ]
  }
 ],
 "metadata": {
  "kernelspec": {
   "display_name": "Python 3",
   "language": "python",
   "name": "python3"
  },
  "language_info": {
   "codemirror_mode": {
    "name": "ipython",
    "version": 3
   },
   "file_extension": ".py",
   "mimetype": "text/x-python",
   "name": "python",
   "nbconvert_exporter": "python",
   "pygments_lexer": "ipython3",
   "version": "3.6.5"
  }
 },
 "nbformat": 4,
 "nbformat_minor": 2
}
